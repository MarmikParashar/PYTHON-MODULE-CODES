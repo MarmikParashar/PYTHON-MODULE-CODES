{
 "cells": [
  {
   "cell_type": "code",
   "execution_count": 26,
   "id": "892dfb5c-8dd3-409f-9d98-0edaa81cf9a7",
   "metadata": {},
   "outputs": [],
   "source": [
    "import pandas as pd\n",
    "\n",
    "ames_housing = pd.read_csv(\"C:\\\\Users\\\\marmi\\\\OneDrive\\\\Documents\\\\AmesHousing.csv\")"
   ]
  },
  {
   "cell_type": "code",
   "execution_count": null,
   "id": "18845f0e-98f8-42c4-a3fa-98add68c8587",
   "metadata": {},
   "outputs": [],
   "source": []
  }
 ],
 "metadata": {
  "kernelspec": {
   "display_name": "Python 3 (ipykernel)",
   "language": "python",
   "name": "python3"
  },
  "language_info": {
   "codemirror_mode": {
    "name": "ipython",
    "version": 3
   },
   "file_extension": ".py",
   "mimetype": "text/x-python",
   "name": "python",
   "nbconvert_exporter": "python",
   "pygments_lexer": "ipython3",
   "version": "3.12.4"
  }
 },
 "nbformat": 4,
 "nbformat_minor": 5
}
