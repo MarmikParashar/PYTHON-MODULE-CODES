{
 "cells": [
  {
   "cell_type": "code",
   "execution_count": 15,
   "id": "77abd803-c109-4423-9e82-88c53b50cb68",
   "metadata": {},
   "outputs": [],
   "source": [
    "# Scripting Operations"
   ]
  },
  {
   "cell_type": "code",
   "execution_count": 16,
   "id": "4813c070-cd8b-439c-81dc-f68e605105df",
   "metadata": {},
   "outputs": [],
   "source": [
    "import pandas as pd"
   ]
  },
  {
   "cell_type": "code",
   "execution_count": 23,
   "id": "461111a2-8911-4177-8947-b150db1069ee",
   "metadata": {},
   "outputs": [
    {
     "name": "stdout",
     "output_type": "stream",
     "text": [
      "     Car_ID      Brand        Model  Year  Price\n",
      "0         1  Chevrolet        Sedan  2005  58990\n",
      "1         2    Hyundai        Sedan  2004  45070\n",
      "2         3    Hyundai          Van  2008  36374\n",
      "3         4        Kia    Hatchback  2004  54775\n",
      "4         5        BMW  Convertible  2021  43442\n",
      "..      ...        ...          ...   ...    ...\n",
      "495     496        BMW          Van  2002  38990\n",
      "496     497   Mercedes  Convertible  2001  44615\n",
      "497     498      Honda        Coupe  2023  11424\n",
      "498     499     Toyota    Hatchback  2007   9461\n",
      "499     500      Mazda        Wagon  2022  54415\n",
      "\n",
      "[500 rows x 5 columns]\n"
     ]
    }
   ],
   "source": [
    "data = pd.read_csv('C:\\\\Users\\\\marmi\\\\OneDrive\\\\Documents\\\\cars_data.csv')\n",
    "print(data)"
   ]
  },
  {
   "cell_type": "code",
   "execution_count": 21,
   "id": "191342a1-b3c4-4674-b84e-a924f3925d76",
   "metadata": {},
   "outputs": [
    {
     "name": "stdout",
     "output_type": "stream",
     "text": [
      "   Car_ID      Brand        Model  Year  Price\n",
      "0       1  Chevrolet        Sedan  2005  58990\n",
      "1       2    Hyundai        Sedan  2004  45070\n",
      "2       3    Hyundai          Van  2008  36374\n",
      "3       4        Kia    Hatchback  2004  54775\n",
      "4       5        BMW  Convertible  2021  43442\n"
     ]
    }
   ],
   "source": [
    "short_data = data.head()\n",
    "print(short_data)"
   ]
  },
  {
   "cell_type": "code",
   "execution_count": 33,
   "id": "f0763efb-939e-4957-bdf8-ce7ef1b914b1",
   "metadata": {},
   "outputs": [
    {
     "ename": "AttributeError",
     "evalue": "'DataFrame' object has no attribute 'from_csv'",
     "output_type": "error",
     "traceback": [
      "\u001b[1;31m---------------------------------------------------------------------------\u001b[0m",
      "\u001b[1;31mAttributeError\u001b[0m                            Traceback (most recent call last)",
      "\u001b[1;32m~\\AppData\\Local\\Temp\\ipykernel_19400\\4146637114.py\u001b[0m in \u001b[0;36m?\u001b[1;34m()\u001b[0m\n\u001b[1;32m----> 1\u001b[1;33m data.from_csv ('C:\\\\Users\\\\marmi\\\\OneDrive\\\\Documents\\\\cars_data.csv', sep=',' ,  parse_dates=True, header=None, index_col=0,\n\u001b[0m\u001b[0;32m      2\u001b[0m \u001b[0mencoding\u001b[0m\u001b[1;33m=\u001b[0m\u001b[1;32mNone\u001b[0m\u001b[1;33m,\u001b[0m \u001b[0minfer_datetime_format\u001b[0m\u001b[1;33m=\u001b[0m\u001b[1;32mFalse\u001b[0m\u001b[1;33m)\u001b[0m\u001b[1;33m\u001b[0m\u001b[1;33m\u001b[0m\u001b[0m\n",
      "\u001b[1;32m~\\anaconda3\\Lib\\site-packages\\pandas\\core\\generic.py\u001b[0m in \u001b[0;36m?\u001b[1;34m(self, name)\u001b[0m\n\u001b[0;32m   6295\u001b[0m             \u001b[1;32mand\u001b[0m \u001b[0mname\u001b[0m \u001b[1;32mnot\u001b[0m \u001b[1;32min\u001b[0m \u001b[0mself\u001b[0m\u001b[1;33m.\u001b[0m\u001b[0m_accessors\u001b[0m\u001b[1;33m\u001b[0m\u001b[1;33m\u001b[0m\u001b[0m\n\u001b[0;32m   6296\u001b[0m             \u001b[1;32mand\u001b[0m \u001b[0mself\u001b[0m\u001b[1;33m.\u001b[0m\u001b[0m_info_axis\u001b[0m\u001b[1;33m.\u001b[0m\u001b[0m_can_hold_identifiers_and_holds_name\u001b[0m\u001b[1;33m(\u001b[0m\u001b[0mname\u001b[0m\u001b[1;33m)\u001b[0m\u001b[1;33m\u001b[0m\u001b[1;33m\u001b[0m\u001b[0m\n\u001b[0;32m   6297\u001b[0m         \u001b[1;33m)\u001b[0m\u001b[1;33m:\u001b[0m\u001b[1;33m\u001b[0m\u001b[1;33m\u001b[0m\u001b[0m\n\u001b[0;32m   6298\u001b[0m             \u001b[1;32mreturn\u001b[0m \u001b[0mself\u001b[0m\u001b[1;33m[\u001b[0m\u001b[0mname\u001b[0m\u001b[1;33m]\u001b[0m\u001b[1;33m\u001b[0m\u001b[1;33m\u001b[0m\u001b[0m\n\u001b[1;32m-> 6299\u001b[1;33m         \u001b[1;32mreturn\u001b[0m \u001b[0mobject\u001b[0m\u001b[1;33m.\u001b[0m\u001b[0m__getattribute__\u001b[0m\u001b[1;33m(\u001b[0m\u001b[0mself\u001b[0m\u001b[1;33m,\u001b[0m \u001b[0mname\u001b[0m\u001b[1;33m)\u001b[0m\u001b[1;33m\u001b[0m\u001b[1;33m\u001b[0m\u001b[0m\n\u001b[0m",
      "\u001b[1;31mAttributeError\u001b[0m: 'DataFrame' object has no attribute 'from_csv'"
     ]
    }
   ],
   "source": [
    "data.from_csv ('C:\\\\Users\\\\marmi\\\\OneDrive\\\\Documents\\\\cars_data.csv', sep=',' ,  parse_dates=True, header=None, index_col=0,\n",
    "encoding=None, infer_datetime_format=False)"
   ]
  },
  {
   "cell_type": "code",
   "execution_count": null,
   "id": "47b2c1d0-cff4-4c64-af45-141e5d3f63d3",
   "metadata": {},
   "outputs": [],
   "source": []
  }
 ],
 "metadata": {
  "kernelspec": {
   "display_name": "Python 3 (ipykernel)",
   "language": "python",
   "name": "python3"
  },
  "language_info": {
   "codemirror_mode": {
    "name": "ipython",
    "version": 3
   },
   "file_extension": ".py",
   "mimetype": "text/x-python",
   "name": "python",
   "nbconvert_exporter": "python",
   "pygments_lexer": "ipython3",
   "version": "3.12.4"
  }
 },
 "nbformat": 4,
 "nbformat_minor": 5
}
