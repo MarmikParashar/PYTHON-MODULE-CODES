{
 "cells": [
  {
   "cell_type": "code",
   "execution_count": 2,
   "metadata": {},
   "outputs": [
    {
     "name": "stdout",
     "output_type": "stream",
     "text": [
      "Python 3.12.5\n"
     ]
    }
   ],
   "source": [
    "!python --version"
   ]
  },
  {
   "cell_type": "code",
   "execution_count": 3,
   "metadata": {},
   "outputs": [
    {
     "name": "stdout",
     "output_type": "stream",
     "text": [
      "Defaulting to user installation because normal site-packages is not writeableNote: you may need to restart the kernel to use updated packages.\n",
      "\n",
      "Requirement already satisfied: mysql-connector-python in c:\\users\\marmi\\appdata\\roaming\\python\\python312\\site-packages (9.1.0)\n"
     ]
    }
   ],
   "source": [
    "pip install mysql-connector-python"
   ]
  },
  {
   "cell_type": "code",
   "execution_count": 15,
   "metadata": {},
   "outputs": [],
   "source": [
    "import mysql.connector"
   ]
  },
  {
   "cell_type": "code",
   "execution_count": 16,
   "metadata": {},
   "outputs": [],
   "source": [
    "db = mysql.connector.connect(host = \"localhost\" , user = \"root\" , passwd = \"Sqlroot@9990\")"
   ]
  },
  {
   "cell_type": "code",
   "execution_count": 17,
   "metadata": {},
   "outputs": [],
   "source": [
    "# Cursor  \n",
    "curs = db.cursor()"
   ]
  },
  {
   "cell_type": "code",
   "execution_count": 18,
   "metadata": {},
   "outputs": [
    {
     "name": "stdout",
     "output_type": "stream",
     "text": [
      "('assign2',)\n",
      "('assign3',)\n",
      "('assignment',)\n",
      "('demo',)\n",
      "('dept',)\n",
      "('emp',)\n",
      "('exam_q5',)\n",
      "('information_schema',)\n",
      "('javadb',)\n",
      "('lab2',)\n",
      "('labwork',)\n",
      "('mysql',)\n",
      "('performance_schema',)\n",
      "('practice',)\n",
      "('pythondb',)\n",
      "('question3',)\n",
      "('sys',)\n"
     ]
    }
   ],
   "source": [
    "# For Fetching all the databases\n",
    "curs.execute(\"Show Databases\")\n",
    "for i in curs:\n",
    "    print(i)"
   ]
  },
  {
   "cell_type": "code",
   "execution_count": 19,
   "metadata": {},
   "outputs": [],
   "source": [
    "# To use exisiting Database\n",
    "curs.execute(\"Use Pythondb\")"
   ]
  },
  {
   "cell_type": "code",
   "execution_count": 11,
   "metadata": {},
   "outputs": [],
   "source": [
    "# Creatating a Table in Database\n",
    "curs.execute(\" Create Table Company(EmpId INT NOT NULL PRIMARY KEY AUTO_INCREMENT ,EmpName Varchar(25) NOT NULL,Department Varchar(25) NOT NULL,Salary Varchar(25) NOT NULL)\")"
   ]
  },
  {
   "cell_type": "code",
   "execution_count": 20,
   "metadata": {},
   "outputs": [
    {
     "name": "stdout",
     "output_type": "stream",
     "text": [
      "('EmpId', 'int', 'NO', 'PRI', None, 'auto_increment')\n",
      "('EmpName', 'varchar(25)', 'NO', '', None, '')\n",
      "('Department', 'varchar(25)', 'NO', '', None, '')\n",
      "('Salary', 'varchar(25)', 'NO', '', None, '')\n"
     ]
    }
   ],
   "source": [
    "# Fetching the Details of Created Table\n",
    "curs.execute(\"desc Company\")\n",
    "# Print the Table Details\n",
    "for i in curs:\n",
    "    print(i)"
   ]
  },
  {
   "cell_type": "code",
   "execution_count": 23,
   "metadata": {},
   "outputs": [],
   "source": [
    "# Insert Multi Row Value into the Table\n",
    "company_insert = (\"INSERT INTO Company(EmpName , Department , Salary) Values(%s,%s,%s)\")\n",
    "\n",
    "data = [(\"Vani\", \"HR\", \"100000\"), (\"Krish\", \"Accounts\", \"60000\"), (\"Aishwarya\", \"Sales\", \"25000\"),  (\"Govind\", \"Marketing\", \"40000\")]\n",
    "curs.executemany(company_insert, data)\n",
    "db.commit()\n"
   ]
  },
  {
   "cell_type": "code",
   "execution_count": 29,
   "metadata": {},
   "outputs": [
    {
     "name": "stdout",
     "output_type": "stream",
     "text": [
      "(1, 'Vani', 'HR', '150000')\n",
      "(2, 'Krish', 'Accounts', '60000')\n",
      "(4, 'Govind', 'Marketing', '40000')\n"
     ]
    }
   ],
   "source": [
    "# Fetch all the Table Content\n",
    "company_select = (\"Select * from Company\")\n",
    "curs.execute(company_select)\n",
    "company_data = curs.fetchall()\n",
    "for n in company_data:\n",
    "    print(n)\n"
   ]
  },
  {
   "cell_type": "code",
   "execution_count": 26,
   "metadata": {},
   "outputs": [],
   "source": [
    "# Update Data in the table\n",
    "company_update = (\"Update Company SET salary = '150000' Where EmpId = 1\")\n",
    "curs.execute(company_update)\n",
    "db.commit()"
   ]
  },
  {
   "cell_type": "code",
   "execution_count": 28,
   "metadata": {},
   "outputs": [],
   "source": [
    "# Delete Statement \n",
    "company_delete = (\"Delete From Company Where EmpId = 3\")\n",
    "curs.execute(company_delete)\n",
    "db.commit()"
   ]
  },
  {
   "cell_type": "code",
   "execution_count": 30,
   "metadata": {},
   "outputs": [],
   "source": [
    "db.close()"
   ]
  }
 ],
 "metadata": {
  "kernelspec": {
   "display_name": "Python 3",
   "language": "python",
   "name": "python3"
  },
  "language_info": {
   "codemirror_mode": {
    "name": "ipython",
    "version": 3
   },
   "file_extension": ".py",
   "mimetype": "text/x-python",
   "name": "python",
   "nbconvert_exporter": "python",
   "pygments_lexer": "ipython3",
   "version": "3.12.5"
  }
 },
 "nbformat": 4,
 "nbformat_minor": 2
}
