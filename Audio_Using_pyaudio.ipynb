{
 "cells": [
  {
   "cell_type": "code",
   "execution_count": 13,
   "id": "43809799-35eb-492e-b60f-3ca6a97721a9",
   "metadata": {},
   "outputs": [
    {
     "name": "stdout",
     "output_type": "stream",
     "text": [
      "Requirement already satisfied: scipy in c:\\users\\marmi\\anaconda3\\lib\\site-packages (1.13.1)\n",
      "Requirement already satisfied: numpy<2.3,>=1.22.4 in c:\\users\\marmi\\anaconda3\\lib\\site-packages (from scipy) (1.26.4)\n",
      "Note: you may need to restart the kernel to use updated packages.\n"
     ]
    }
   ],
   "source": [
    "pip install scipy"
   ]
  },
  {
   "cell_type": "code",
   "execution_count": 3,
   "id": "d4ffe105-6a53-475a-b6a0-96f93233b942",
   "metadata": {},
   "outputs": [],
   "source": [
    "from scipy.io import wavfile\n"
   ]
  },
  {
   "cell_type": "code",
   "execution_count": 7,
   "id": "dc4a9dfc-3d87-43ed-8f1b-bc05e4160a52",
   "metadata": {},
   "outputs": [
    {
     "name": "stdout",
     "output_type": "stream",
     "text": [
      "Requirement already satisfied: pydub in c:\\users\\marmi\\anaconda3\\lib\\site-packages (0.25.1)\n",
      "Note: you may need to restart the kernel to use updated packages.\n"
     ]
    }
   ],
   "source": [
    "pip install pydub\n"
   ]
  },
  {
   "cell_type": "code",
   "execution_count": 8,
   "id": "2a443c4b-615a-49ed-9ac8-96be9dfc43f7",
   "metadata": {},
   "outputs": [],
   "source": [
    "from pydub import AudioSegment\n"
   ]
  },
  {
   "cell_type": "code",
   "execution_count": 19,
   "id": "d871d410-e333-4d2d-b573-d5f58d5c690f",
   "metadata": {},
   "outputs": [],
   "source": [
    "from pydub.playback import play"
   ]
  },
  {
   "cell_type": "code",
   "execution_count": 47,
   "id": "107f9b34-3f29-4356-8451-7f2a28a42ed5",
   "metadata": {},
   "outputs": [
    {
     "name": "stdout",
     "output_type": "stream",
     "text": [
      "The sample rate is : 44100Hz\n",
      "There is the length of file is :  572591seconds\n",
      "Audio end point :  12.983922902494331\n",
      "[[0 0]\n",
      " [0 0]\n",
      " [0 0]\n",
      " ...\n",
      " [0 0]\n",
      " [0 0]\n",
      " [0 0]]\n",
      "The Maximum Frequency : \n",
      "19127\n"
     ]
    },
    {
     "data": {
      "image/png": "[encoded data removed]",
      "text/plain": [
       "<Figure size 640x480 with 1 Axes>"
      ]
     },
     "metadata": {},
     "output_type": "display_data"
    }
   ],
   "source": [
    "# load the wav file\n",
    "import matplotlib.pyplot as plt\n",
    "sample_rate, data =wavfile.read(\"C:/Users/marmi/Downloads/wav_sample2.wav\")\n",
    "\n",
    "# find the sample rate\n",
    "print(\"The sample rate is : \" +str(sample_rate) + \"Hz\")\n",
    "\n",
    "# find the total length of the file\n",
    "print(\"There is the length of file is : \", str(len(data)) + \"seconds\")\n",
    "\n",
    "# find the end point of the wav file\n",
    "print(\"Audio end point : \", str(len(data)/sample_rate))\n",
    "print(data) \n",
    "\n",
    "#Find Maximum amplitude \n",
    "print(\"The Maximum Frequency : \")\n",
    "print(data.max())\n",
    "\n",
    "# plot the frequency for the data\n",
    "plt.plot(data)\n",
    "plt.show()"
   ]
  },
  {
   "cell_type": "code",
   "execution_count": 3,
   "id": "a3c18355-d2f6-4ec5-8639-2c74ba66369e",
   "metadata": {},
   "outputs": [
    {
     "name": "stdout",
     "output_type": "stream",
     "text": [
      "Collecting simpleaudio\n",
      "  Using cached simpleaudio-1.0.4.tar.gz (2.0 MB)\n",
      "  Preparing metadata (setup.py): started\n",
      "  Preparing metadata (setup.py): finished with status 'done'\n",
      "Building wheels for collected packages: simpleaudio\n",
      "  Building wheel for simpleaudio (setup.py): started\n",
      "  Building wheel for simpleaudio (setup.py): finished with status 'done'\n",
      "  Created wheel for simpleaudio: filename=simpleaudio-1.0.4-cp312-cp312-win_amd64.whl size=2039278 sha256=cc52682a171e71a3c58f44a1601539f12f096205ee6f8b274d9cbc919e8d0bcb\n",
      "  Stored in directory: c:\\users\\marmi\\appdata\\local\\pip\\cache\\wheels\\1d\\ad\\93\\be934a93f1ba8922256840f1cf0e59f8a21e2539985616b64f\n",
      "Successfully built simpleaudio\n",
      "Installing collected packages: simpleaudio\n",
      "Successfully installed simpleaudio-1.0.4\n",
      "Note: you may need to restart the kernel to use updated packages.\n"
     ]
    }
   ],
   "source": [
    "pip install simpleaudio"
   ]
  },
  {
   "cell_type": "code",
   "execution_count": null,
   "id": "ebbdf9d8-c944-4efe-a5ed-ed579d52be0f",
   "metadata": {},
   "outputs": [],
   "source": [
    "\n",
    "# play the wave file\n",
    "import simpleaudio as sa\n",
    "wav_obj = sa.WaveObject.from_wave_file(\"C:/Users/marmi/Downloads/wav_sample2.wav\")\n",
    "ply_obj = wav_obj.play()\n",
    "print(\"Music is start\")\n",
    "ply_obj.wait_done()\n",
    "'''   # Not Working \n",
    "\n",
    "from IPython.display import Audio\n",
    "# Alternate solution\n",
    "# play the wave file\n",
    "wav_obj = Audio(\"C:/Users/marmi/Downloads/wav_sample2.wav\")\n",
    "wav_obj'''"
   ]
  },
  {
   "cell_type": "code",
   "execution_count": null,
   "id": "9247cef0-f7e8-4283-83d2-24de79354a75",
   "metadata": {},
   "outputs": [],
   "source": [
    "# merge two wave file\n",
    "\n",
    "wav_file_1 = AudioSegment.from_file(\"C:/Users/marmi/Downloads/wav_sample1.wav\") \n",
    "play(wav_file_1)\n"
   ]
  },
  {
   "cell_type": "code",
   "execution_count": null,
   "id": "c10fde2a-c7b7-4c5a-8846-18b14033a16f",
   "metadata": {},
   "outputs": [],
   "source": [
    "wav_file_2 = AudioSegment.from_file(\"C:/Users/marmi/Downloads/wav_sample2.wav\")\n",
    "play(wav_file_2)"
   ]
  },
  {
   "cell_type": "code",
   "execution_count": 55,
   "id": "7d5b3811-b479-4922-b3e0-0ebb1f961d60",
   "metadata": {},
   "outputs": [],
   "source": [
    "# Merging the two audio files \n",
    "wav_file_3 = wav_file_1 + wav_file_2\n",
    "# play the sound \n",
    "play(wav_file_3)"
   ]
  },
  {
   "cell_type": "code",
   "execution_count": null,
   "id": "cd9b302b-4af5-4398-a64c-8d18d67b4a4c",
   "metadata": {},
   "outputs": [],
   "source": [
    "\n",
    "# increasing the volume of the audio file in decibles\n",
    "louder_wav_file = wav_file_1 + 30\n",
    "play(louder_wav_file)"
   ]
  },
  {
   "cell_type": "code",
   "execution_count": null,
   "id": "9be7af45-e59b-4a8d-bc7d-c818e10df64b",
   "metadata": {},
   "outputs": [],
   "source": [
    "# Export louder audio file \n",
    "louder_wav_file.export(out_f = \"louder_wav_file.wav\",format = \"wav\")"
   ]
  },
  {
   "cell_type": "code",
   "execution_count": null,
   "id": "55c58c59-dcbf-4bbb-94e8-ed22840c0e21",
   "metadata": {},
   "outputs": [],
   "source": [
    "# Decreasing the volume of the audio file in decibles\n",
    "lesser_wav_file = wav_file_1 - 15\n",
    "play(lesser_wav_file)"
   ]
  },
  {
   "cell_type": "code",
   "execution_count": null,
   "id": "e1c814f6-84dc-4cd2-9ba4-e70376c3fa62",
   "metadata": {},
   "outputs": [],
   "source": [
    "# Export louder audio file \n",
    "lesser_wav_file.export(out_f = \"lesser_wav_file.wav\",format = \"wav\")"
   ]
  },
  {
   "cell_type": "code",
   "execution_count": null,
   "id": "e63d6a6b-840d-400c-a40a-7d8bb30ff6aa",
   "metadata": {},
   "outputs": [],
   "source": [
    "#spiliting the file\n",
    "b = wav_file_1.split_to_mono() \n",
    "print(b) \n",
    "print(b[0].channels )\n",
    "b[0].export(out_f=\"new.wav\",format=\"wav\")"
   ]
  }
 ],
 "metadata": {
  "kernelspec": {
   "display_name": "Python 3 (ipykernel)",
   "language": "python",
   "name": "python3"
  },
  "language_info": {
   "codemirror_mode": {
    "name": "ipython",
    "version": 3
   },
   "file_extension": ".py",
   "mimetype": "text/x-python",
   "name": "python",
   "nbconvert_exporter": "python",
   "pygments_lexer": "ipython3",
   "version": "3.12.4"
  }
 },
 "nbformat": 4,
 "nbformat_minor": 5
}
